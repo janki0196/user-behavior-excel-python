{
 "cells": [
  {
   "cell_type": "markdown",
   "metadata": {},
   "source": [
    "**Yandex Music**"
   ]
  },
  {
   "cell_type": "markdown",
   "metadata": {},
   "source": [
    "Objective:\n",
    "Test three hypotheses:\n",
    "1. User activity differs by day of the week and by city.\n",
    "2. On Monday mornings, residents of Springfield and Shelbyville listen to different genres. The same is true on Friday nights.\n",
    "3. Listeners in Springfield and Shelbyville have different preferences. People in Springfield prefer pop music, while people in Shelbyville are more likely to listen to rap music."
   ]
  },
  {
   "cell_type": "markdown",
   "metadata": {},
   "source": [
    "**1. Data Description**"
   ]
  },
  {
   "cell_type": "code",
   "execution_count": 1,
   "metadata": {},
   "outputs": [],
   "source": [
    "import pandas as pd"
   ]
  },
  {
   "cell_type": "code",
   "execution_count": 2,
   "metadata": {},
   "outputs": [
    {
     "name": "stdout",
     "output_type": "stream",
     "text": [
      "<class 'pandas.core.frame.DataFrame'>\n",
      "RangeIndex: 65079 entries, 0 to 65078\n",
      "Data columns (total 7 columns):\n",
      " #   Column    Non-Null Count  Dtype \n",
      "---  ------    --------------  ----- \n",
      " 0     userID  65079 non-null  object\n",
      " 1   Track     63736 non-null  object\n",
      " 2   artist    57512 non-null  object\n",
      " 3   genre     63881 non-null  object\n",
      " 4     City    65079 non-null  object\n",
      " 5   time      65079 non-null  object\n",
      " 6   Day       65079 non-null  object\n",
      "dtypes: object(7)\n",
      "memory usage: 3.5+ MB\n"
     ]
    },
    {
     "data": {
      "text/html": [
       "<div>\n",
       "<style scoped>\n",
       "    .dataframe tbody tr th:only-of-type {\n",
       "        vertical-align: middle;\n",
       "    }\n",
       "\n",
       "    .dataframe tbody tr th {\n",
       "        vertical-align: top;\n",
       "    }\n",
       "\n",
       "    .dataframe thead th {\n",
       "        text-align: right;\n",
       "    }\n",
       "</style>\n",
       "<table border=\"1\" class=\"dataframe\">\n",
       "  <thead>\n",
       "    <tr style=\"text-align: right;\">\n",
       "      <th></th>\n",
       "      <th>userID</th>\n",
       "      <th>Track</th>\n",
       "      <th>artist</th>\n",
       "      <th>genre</th>\n",
       "      <th>City</th>\n",
       "      <th>time</th>\n",
       "      <th>Day</th>\n",
       "    </tr>\n",
       "  </thead>\n",
       "  <tbody>\n",
       "    <tr>\n",
       "      <th>0</th>\n",
       "      <td>FFB692EC</td>\n",
       "      <td>Kamigata To Boots</td>\n",
       "      <td>The Mass Missile</td>\n",
       "      <td>rock</td>\n",
       "      <td>Shelbyville</td>\n",
       "      <td>20:28:33</td>\n",
       "      <td>Wednesday</td>\n",
       "    </tr>\n",
       "    <tr>\n",
       "      <th>1</th>\n",
       "      <td>55204538</td>\n",
       "      <td>Delayed Because of Accident</td>\n",
       "      <td>Andreas Rönnberg</td>\n",
       "      <td>rock</td>\n",
       "      <td>Springfield</td>\n",
       "      <td>14:07:09</td>\n",
       "      <td>Friday</td>\n",
       "    </tr>\n",
       "    <tr>\n",
       "      <th>2</th>\n",
       "      <td>20EC38</td>\n",
       "      <td>Funiculì funiculà</td>\n",
       "      <td>Mario Lanza</td>\n",
       "      <td>pop</td>\n",
       "      <td>Shelbyville</td>\n",
       "      <td>20:58:07</td>\n",
       "      <td>Wednesday</td>\n",
       "    </tr>\n",
       "    <tr>\n",
       "      <th>3</th>\n",
       "      <td>A3DD03C9</td>\n",
       "      <td>Dragons in the Sunset</td>\n",
       "      <td>Fire + Ice</td>\n",
       "      <td>folk</td>\n",
       "      <td>Shelbyville</td>\n",
       "      <td>08:37:09</td>\n",
       "      <td>Monday</td>\n",
       "    </tr>\n",
       "    <tr>\n",
       "      <th>4</th>\n",
       "      <td>E2DC1FAE</td>\n",
       "      <td>Soul People</td>\n",
       "      <td>Space Echo</td>\n",
       "      <td>dance</td>\n",
       "      <td>Springfield</td>\n",
       "      <td>08:34:34</td>\n",
       "      <td>Monday</td>\n",
       "    </tr>\n",
       "  </tbody>\n",
       "</table>\n",
       "</div>"
      ],
      "text/plain": [
       "     userID                        Track            artist  genre  \\\n",
       "0  FFB692EC            Kamigata To Boots  The Mass Missile   rock   \n",
       "1  55204538  Delayed Because of Accident  Andreas Rönnberg   rock   \n",
       "2    20EC38            Funiculì funiculà       Mario Lanza    pop   \n",
       "3  A3DD03C9        Dragons in the Sunset        Fire + Ice   folk   \n",
       "4  E2DC1FAE                  Soul People        Space Echo  dance   \n",
       "\n",
       "        City        time        Day  \n",
       "0  Shelbyville  20:28:33  Wednesday  \n",
       "1  Springfield  14:07:09     Friday  \n",
       "2  Shelbyville  20:58:07  Wednesday  \n",
       "3  Shelbyville  08:37:09     Monday  \n",
       "4  Springfield  08:34:34     Monday  "
      ]
     },
     "execution_count": 2,
     "metadata": {},
     "output_type": "execute_result"
    }
   ],
   "source": [
    "#getting general information about the data in df\n",
    "df=pd.read_csv('music_project_en.csv')\n",
    "df.info()\n",
    "df.head()"
   ]
  },
  {
   "cell_type": "markdown",
   "metadata": {},
   "source": [
    "We can see three problems with the style in the column names:\n",
    "1. Some names are uppercase, others are lowercase.\n",
    "2. There are some spaces in some names.\n",
    "3. The style needs to be changed and applied to all column names.\n",
    "4. The number of values ​​in the columns is different. This means that the data contains missing values.\n",
    "5. The column type needs to be changed to date."
   ]
  },
  {
   "cell_type": "markdown",
   "metadata": {},
   "source": [
    "**2. Data Processing**"
   ]
  },
  {
   "cell_type": "code",
   "execution_count": 3,
   "metadata": {},
   "outputs": [
    {
     "data": {
      "text/plain": [
       "Index(['  userID', 'Track', 'artist', 'genre', '  City  ', 'time', 'Day'], dtype='object')"
      ]
     },
     "execution_count": 3,
     "metadata": {},
     "output_type": "execute_result"
    }
   ],
   "source": [
    "df.columns"
   ]
  },
  {
   "cell_type": "code",
   "execution_count": 4,
   "metadata": {},
   "outputs": [
    {
     "data": {
      "text/plain": [
       "Index(['user_id', 'track', 'artist', 'genre', 'city', 'time', 'day'], dtype='object')"
      ]
     },
     "execution_count": 4,
     "metadata": {},
     "output_type": "execute_result"
    }
   ],
   "source": [
    "df.columns=['user_id','track', 'artist', 'genre', 'city', 'time', 'day']\n",
    "df.columns\n",
    "#Rename columns"
   ]
  },
  {
   "cell_type": "code",
   "execution_count": 5,
   "metadata": {},
   "outputs": [
    {
     "data": {
      "text/plain": [
       "user_id       0\n",
       "track      1343\n",
       "artist     7567\n",
       "genre      1198\n",
       "city          0\n",
       "time          0\n",
       "day           0\n",
       "dtype: int64"
      ]
     },
     "execution_count": 5,
     "metadata": {},
     "output_type": "execute_result"
    }
   ],
   "source": [
    "#calculating missing values\n",
    "df.isna().sum()"
   ]
  },
  {
   "cell_type": "code",
   "execution_count": 6,
   "metadata": {},
   "outputs": [
    {
     "data": {
      "text/plain": [
       "user_id    0\n",
       "track      0\n",
       "artist     0\n",
       "genre      0\n",
       "city       0\n",
       "time       0\n",
       "day        0\n",
       "dtype: int64"
      ]
     },
     "execution_count": 6,
     "metadata": {},
     "output_type": "execute_result"
    }
   ],
   "source": [
    "replace = ['track','artist','genre']\n",
    "for alpha in replace:\n",
    "    df[alpha]=df[alpha].fillna(value='unknown')\n",
    "\n",
    "df.isna().sum()\n",
    "# looping through column names and replacing missing values ​​with 'unknown'"
   ]
  },
  {
   "cell_type": "code",
   "execution_count": 7,
   "metadata": {},
   "outputs": [
    {
     "data": {
      "text/plain": [
       "np.int64(3826)"
      ]
     },
     "execution_count": 7,
     "metadata": {},
     "output_type": "execute_result"
    }
   ],
   "source": [
    "df.duplicated().sum()"
   ]
  },
  {
   "cell_type": "code",
   "execution_count": 8,
   "metadata": {},
   "outputs": [
    {
     "data": {
      "text/plain": [
       "np.int64(0)"
      ]
     },
     "execution_count": 8,
     "metadata": {},
     "output_type": "execute_result"
    }
   ],
   "source": [
    "df = df.drop_duplicates().reset_index(drop=True)\n",
    "df.duplicated().sum()\n",
    "# removing obvious duplicates"
   ]
  },
  {
   "cell_type": "code",
   "execution_count": 9,
   "metadata": {},
   "outputs": [
    {
     "data": {
      "text/plain": [
       "array(['acid', 'acoustic', 'action', 'adult', 'africa', 'afrikaans',\n",
       "       'alternative', 'ambient', 'americana', 'animated', 'anime',\n",
       "       'arabesk', 'arabic', 'arena', 'argentinetango', 'art', 'audiobook',\n",
       "       'avantgarde', 'axé', 'baile', 'balkan', 'beats', 'bigroom',\n",
       "       'black', 'bluegrass', 'blues', 'bollywood', 'bossa', 'brazilian',\n",
       "       'breakbeat', 'breaks', 'broadway', 'cantautori', 'cantopop',\n",
       "       'canzone', 'caribbean', 'caucasian', 'celtic', 'chamber',\n",
       "       'children', 'chill', 'chinese', 'choral', 'christian', 'christmas',\n",
       "       'classical', 'classicmetal', 'club', 'colombian', 'comedy',\n",
       "       'conjazz', 'contemporary', 'country', 'cuban', 'dance',\n",
       "       'dancehall', 'dancepop', 'dark', 'death', 'deep', 'deutschrock',\n",
       "       'deutschspr', 'dirty', 'disco', 'dnb', 'documentary', 'downbeat',\n",
       "       'downtempo', 'drum', 'dub', 'dubstep', 'eastern', 'easy',\n",
       "       'electronic', 'electropop', 'emo', 'entehno', 'epicmetal',\n",
       "       'estrada', 'ethnic', 'eurofolk', 'european', 'experimental',\n",
       "       'extrememetal', 'fado', 'film', 'fitness', 'flamenco', 'folk',\n",
       "       'folklore', 'folkmetal', 'folkrock', 'folktronica', 'forró',\n",
       "       'frankreich', 'französisch', 'french', 'funk', 'future', 'gangsta',\n",
       "       'garage', 'german', 'ghazal', 'gitarre', 'glitch', 'gospel',\n",
       "       'gothic', 'grime', 'grunge', 'gypsy', 'handsup', \"hard'n'heavy\",\n",
       "       'hardcore', 'hardstyle', 'hardtechno', 'hip', 'hip-hop', 'hiphop',\n",
       "       'historisch', 'holiday', 'hop', 'horror', 'house', 'idm',\n",
       "       'independent', 'indian', 'indie', 'indipop', 'industrial',\n",
       "       'inspirational', 'instrumental', 'international', 'irish', 'jam',\n",
       "       'japanese', 'jazz', 'jewish', 'jpop', 'jungle', 'k-pop',\n",
       "       'karadeniz', 'karaoke', 'kayokyoku', 'korean', 'laiko', 'latin',\n",
       "       'latino', 'leftfield', 'local', 'lounge', 'loungeelectronic',\n",
       "       'lovers', 'malaysian', 'mandopop', 'marschmusik', 'meditative',\n",
       "       'mediterranean', 'melodic', 'metal', 'metalcore', 'mexican',\n",
       "       'middle', 'minimal', 'miscellaneous', 'modern', 'mood', 'mpb',\n",
       "       'muslim', 'native', 'neoklassik', 'neue', 'new', 'newage',\n",
       "       'newwave', 'nu', 'nujazz', 'numetal', 'oceania', 'old', 'opera',\n",
       "       'orchestral', 'other', 'piano', 'pop', 'popelectronic',\n",
       "       'popeurodance', 'post', 'posthardcore', 'postrock', 'power',\n",
       "       'progmetal', 'progressive', 'psychedelic', 'punjabi', 'punk',\n",
       "       'quebecois', 'ragga', 'ram', 'rancheras', 'rap', 'rave', 'reggae',\n",
       "       'reggaeton', 'regional', 'relax', 'religious', 'retro', 'rhythm',\n",
       "       'rnb', 'rnr', 'rock', 'rockabilly', 'romance', 'roots', 'ruspop',\n",
       "       'rusrap', 'rusrock', 'salsa', 'samba', 'schlager', 'self',\n",
       "       'sertanejo', 'shoegazing', 'showtunes', 'singer', 'ska', 'slow',\n",
       "       'smooth', 'soul', 'soulful', 'sound', 'soundtrack', 'southern',\n",
       "       'specialty', 'speech', 'spiritual', 'sport', 'stonerrock', 'surf',\n",
       "       'swing', 'synthpop', 'sängerportrait', 'tango', 'tanzorchester',\n",
       "       'taraftar', 'tech', 'techno', 'thrash', 'top', 'traditional',\n",
       "       'tradjazz', 'trance', 'tribal', 'trip', 'triphop', 'tropical',\n",
       "       'türk', 'türkçe', 'unknown', 'urban', 'uzbek', 'variété', 'vi',\n",
       "       'videogame', 'vocal', 'western', 'world', 'worldbeat', 'ïîï'],\n",
       "      dtype=object)"
      ]
     },
     "execution_count": 9,
     "metadata": {},
     "output_type": "execute_result"
    }
   ],
   "source": [
    "df['genre'].sort_values().unique()"
   ]
  },
  {
   "cell_type": "code",
   "execution_count": 10,
   "metadata": {},
   "outputs": [
    {
     "name": "stderr",
     "output_type": "stream",
     "text": [
      "C:\\Users\\mosqu\\AppData\\Local\\Temp\\ipykernel_5792\\1196054039.py:2: FutureWarning: A value is trying to be set on a copy of a DataFrame or Series through chained assignment using an inplace method.\n",
      "The behavior will change in pandas 3.0. This inplace method will never work because the intermediate object on which we are setting values always behaves as a copy.\n",
      "\n",
      "For example, when doing 'df[col].method(value, inplace=True)', try using 'df.method({col: value}, inplace=True)' or df[col] = df[col].method(value) instead, to perform the operation inplace on the original object.\n",
      "\n",
      "\n",
      "  df['genre'].replace(wrong_genres, correct_genre, inplace=True)\n"
     ]
    },
    {
     "data": {
      "text/plain": [
       "array(['acid', 'acoustic', 'action', 'adult', 'africa', 'afrikaans',\n",
       "       'alternative', 'ambient', 'americana', 'animated', 'anime',\n",
       "       'arabesk', 'arabic', 'arena', 'argentinetango', 'art', 'audiobook',\n",
       "       'avantgarde', 'axé', 'baile', 'balkan', 'beats', 'bigroom',\n",
       "       'black', 'bluegrass', 'blues', 'bollywood', 'bossa', 'brazilian',\n",
       "       'breakbeat', 'breaks', 'broadway', 'cantautori', 'cantopop',\n",
       "       'canzone', 'caribbean', 'caucasian', 'celtic', 'chamber',\n",
       "       'children', 'chill', 'chinese', 'choral', 'christian', 'christmas',\n",
       "       'classical', 'classicmetal', 'club', 'colombian', 'comedy',\n",
       "       'conjazz', 'contemporary', 'country', 'cuban', 'dance',\n",
       "       'dancehall', 'dancepop', 'dark', 'death', 'deep', 'deutschrock',\n",
       "       'deutschspr', 'dirty', 'disco', 'dnb', 'documentary', 'downbeat',\n",
       "       'downtempo', 'drum', 'dub', 'dubstep', 'eastern', 'easy',\n",
       "       'electronic', 'electropop', 'emo', 'entehno', 'epicmetal',\n",
       "       'estrada', 'ethnic', 'eurofolk', 'european', 'experimental',\n",
       "       'extrememetal', 'fado', 'film', 'fitness', 'flamenco', 'folk',\n",
       "       'folklore', 'folkmetal', 'folkrock', 'folktronica', 'forró',\n",
       "       'frankreich', 'französisch', 'french', 'funk', 'future', 'gangsta',\n",
       "       'garage', 'german', 'ghazal', 'gitarre', 'glitch', 'gospel',\n",
       "       'gothic', 'grime', 'grunge', 'gypsy', 'handsup', \"hard'n'heavy\",\n",
       "       'hardcore', 'hardstyle', 'hardtechno', 'hiphop', 'historisch',\n",
       "       'holiday', 'horror', 'house', 'idm', 'independent', 'indian',\n",
       "       'indie', 'indipop', 'industrial', 'inspirational', 'instrumental',\n",
       "       'international', 'irish', 'jam', 'japanese', 'jazz', 'jewish',\n",
       "       'jpop', 'jungle', 'k-pop', 'karadeniz', 'karaoke', 'kayokyoku',\n",
       "       'korean', 'laiko', 'latin', 'latino', 'leftfield', 'local',\n",
       "       'lounge', 'loungeelectronic', 'lovers', 'malaysian', 'mandopop',\n",
       "       'marschmusik', 'meditative', 'mediterranean', 'melodic', 'metal',\n",
       "       'metalcore', 'mexican', 'middle', 'minimal', 'miscellaneous',\n",
       "       'modern', 'mood', 'mpb', 'muslim', 'native', 'neoklassik', 'neue',\n",
       "       'new', 'newage', 'newwave', 'nu', 'nujazz', 'numetal', 'oceania',\n",
       "       'old', 'opera', 'orchestral', 'other', 'piano', 'pop',\n",
       "       'popelectronic', 'popeurodance', 'post', 'posthardcore',\n",
       "       'postrock', 'power', 'progmetal', 'progressive', 'psychedelic',\n",
       "       'punjabi', 'punk', 'quebecois', 'ragga', 'ram', 'rancheras', 'rap',\n",
       "       'rave', 'reggae', 'reggaeton', 'regional', 'relax', 'religious',\n",
       "       'retro', 'rhythm', 'rnb', 'rnr', 'rock', 'rockabilly', 'romance',\n",
       "       'roots', 'ruspop', 'rusrap', 'rusrock', 'salsa', 'samba',\n",
       "       'schlager', 'self', 'sertanejo', 'shoegazing', 'showtunes',\n",
       "       'singer', 'ska', 'slow', 'smooth', 'soul', 'soulful', 'sound',\n",
       "       'soundtrack', 'southern', 'specialty', 'speech', 'spiritual',\n",
       "       'sport', 'stonerrock', 'surf', 'swing', 'synthpop',\n",
       "       'sängerportrait', 'tango', 'tanzorchester', 'taraftar', 'tech',\n",
       "       'techno', 'thrash', 'top', 'traditional', 'tradjazz', 'trance',\n",
       "       'tribal', 'trip', 'triphop', 'tropical', 'türk', 'türkçe',\n",
       "       'unknown', 'urban', 'uzbek', 'variété', 'vi', 'videogame', 'vocal',\n",
       "       'western', 'world', 'worldbeat', 'ïîï'], dtype=object)"
      ]
     },
     "execution_count": 10,
     "metadata": {},
     "output_type": "execute_result"
    }
   ],
   "source": [
    "def replace_wrong_genres(df, wrong_genres, correct_genre):\n",
    "  df['genre'].replace(wrong_genres, correct_genre, inplace=True)\n",
    "\n",
    "wrong_genres = ['hip', 'hop', 'hip-hop']\n",
    "correct_genre = 'hiphop'\n",
    "replace_wrong_genres(df, wrong_genres, correct_genre)\n",
    "\n",
    "df['genre'].sort_values().unique()\n",
    "# function to replace implicit duplicates"
   ]
  },
  {
   "cell_type": "markdown",
   "metadata": {},
   "source": [
    "**3.Hypothesis testing**"
   ]
  },
  {
   "cell_type": "markdown",
   "metadata": {},
   "source": [
    "Hypothesis 1: Compare user behavior in the two cities"
   ]
  },
  {
   "cell_type": "code",
   "execution_count": 11,
   "metadata": {},
   "outputs": [
    {
     "data": {
      "text/html": [
       "<div>\n",
       "<style scoped>\n",
       "    .dataframe tbody tr th:only-of-type {\n",
       "        vertical-align: middle;\n",
       "    }\n",
       "\n",
       "    .dataframe tbody tr th {\n",
       "        vertical-align: top;\n",
       "    }\n",
       "\n",
       "    .dataframe thead th {\n",
       "        text-align: right;\n",
       "    }\n",
       "</style>\n",
       "<table border=\"1\" class=\"dataframe\">\n",
       "  <thead>\n",
       "    <tr style=\"text-align: right;\">\n",
       "      <th></th>\n",
       "      <th>city</th>\n",
       "      <th>total</th>\n",
       "    </tr>\n",
       "  </thead>\n",
       "  <tbody>\n",
       "    <tr>\n",
       "      <th>0</th>\n",
       "      <td>Shelbyville</td>\n",
       "      <td>18512</td>\n",
       "    </tr>\n",
       "    <tr>\n",
       "      <th>1</th>\n",
       "      <td>Springfield</td>\n",
       "      <td>42741</td>\n",
       "    </tr>\n",
       "  </tbody>\n",
       "</table>\n",
       "</div>"
      ],
      "text/plain": [
       "          city  total\n",
       "0  Shelbyville  18512\n",
       "1  Springfield  42741"
      ]
     },
     "execution_count": 11,
     "metadata": {},
     "output_type": "execute_result"
    }
   ],
   "source": [
    "tracks_by_city_total = df.groupby(['city','track']).size().unstack(fill_value=0).sum(axis=1).reset_index(name='total')\n",
    "tracks_by_city_total.head()# counting the tracks played in each city"
   ]
  },
  {
   "cell_type": "code",
   "execution_count": 12,
   "metadata": {},
   "outputs": [
    {
     "data": {
      "text/plain": [
       "day\n",
       "Friday       21840\n",
       "Monday       21354\n",
       "Wednesday    18059\n",
       "Name: track, dtype: int64"
      ]
     },
     "execution_count": 12,
     "metadata": {},
     "output_type": "execute_result"
    }
   ],
   "source": [
    "# calculating the tracks played on each of the three days\n",
    "df.groupby('day')['track'].count()"
   ]
  },
  {
   "cell_type": "code",
   "execution_count": 13,
   "metadata": {},
   "outputs": [],
   "source": [
    "# the function counts the tracks played on a certain day and city.\n",
    "# first retrieves the rows of the desired day from the table,\n",
    "# then filters the rows of the desired city from the result,\n",
    "# then finds the number of 'user_id' values ​​in the filtered table,\n",
    "# and returns that number.\n",
    "def number_tracks(day, city):\n",
    "    track_list_count=df[(df['day']==day)] & (df['city'] == city)\n",
    "    num_tracks= len(track_list_count['user_id'].unique())\n",
    "    return num_tracks"
   ]
  },
  {
   "cell_type": "code",
   "execution_count": 15,
   "metadata": {},
   "outputs": [
    {
     "data": {
      "text/html": [
       "<div>\n",
       "<style scoped>\n",
       "    .dataframe tbody tr th:only-of-type {\n",
       "        vertical-align: middle;\n",
       "    }\n",
       "\n",
       "    .dataframe tbody tr th {\n",
       "        vertical-align: top;\n",
       "    }\n",
       "\n",
       "    .dataframe thead th {\n",
       "        text-align: right;\n",
       "    }\n",
       "</style>\n",
       "<table border=\"1\" class=\"dataframe\">\n",
       "  <thead>\n",
       "    <tr style=\"text-align: right;\">\n",
       "      <th></th>\n",
       "      <th>city</th>\n",
       "      <th>monday</th>\n",
       "      <th>wednesday</th>\n",
       "      <th>friday</th>\n",
       "    </tr>\n",
       "  </thead>\n",
       "  <tbody>\n",
       "    <tr>\n",
       "      <th>0</th>\n",
       "      <td>Springfield</td>\n",
       "      <td>11904</td>\n",
       "      <td>8388</td>\n",
       "      <td>12145</td>\n",
       "    </tr>\n",
       "    <tr>\n",
       "      <th>1</th>\n",
       "      <td>Shelbyville</td>\n",
       "      <td>4248</td>\n",
       "      <td>5228</td>\n",
       "      <td>4495</td>\n",
       "    </tr>\n",
       "  </tbody>\n",
       "</table>\n",
       "</div>"
      ],
      "text/plain": [
       "          city  monday  wednesday  friday\n",
       "0  Springfield   11904       8388   12145\n",
       "1  Shelbyville    4248       5228    4495"
      ]
     },
     "execution_count": 15,
     "metadata": {},
     "output_type": "execute_result"
    }
   ],
   "source": [
    "data = {'city': ['Springfield', 'Shelbyville'],\n",
    "        'monday': [11904, 4248],\n",
    "        'wednesday': [8388, 5228],\n",
    "        'friday': [12145, 4495]}\n",
    "\n",
    "new_table = pd.DataFrame(data)\n",
    "new_table"
   ]
  },
  {
   "cell_type": "markdown",
   "metadata": {},
   "source": [
    "Hypothesis 2: Music at the beginning and end of the week"
   ]
  },
  {
   "cell_type": "code",
   "execution_count": 16,
   "metadata": {},
   "outputs": [],
   "source": [
    "spr_general= df.query(\"city=='Springfield'\")\n",
    "shel_general= df.query(\"city=='Shelbyville'\")"
   ]
  },
  {
   "cell_type": "code",
   "execution_count": 18,
   "metadata": {},
   "outputs": [],
   "source": [
    "def genre_weekday (df,day, time1, time2):\n",
    "# Filter rows by day and time\n",
    "    genre_df = df[(df['day'] == day) & (df['time'] >= time1) & (df['time'] < time2)]\n",
    "\n",
    "# Group by genre and count the number of occurrences\n",
    "    genre_df_count = genre_df.groupby('genre').size().reset_index(name='count')\n",
    "\n",
    "# Sort genres by number of occurrences and select the 15 most popular\n",
    "    genre_df_sorted = genre_df_count.sort_values(by='count', ascending=False).head(15)\n",
    "\n",
    "# Return table with the 15 most popular genres\n",
    "    return genre_df_sorted\n",
    "\n",
    "# declaring the genre_weekday() function with the parameters day=, time1= and time2=. Should\n",
    "# return information about the most popular genres on a given day at a given time"
   ]
  },
  {
   "cell_type": "code",
   "execution_count": 22,
   "metadata": {},
   "outputs": [
    {
     "data": {
      "text/html": [
       "<div>\n",
       "<style scoped>\n",
       "    .dataframe tbody tr th:only-of-type {\n",
       "        vertical-align: middle;\n",
       "    }\n",
       "\n",
       "    .dataframe tbody tr th {\n",
       "        vertical-align: top;\n",
       "    }\n",
       "\n",
       "    .dataframe thead th {\n",
       "        text-align: right;\n",
       "    }\n",
       "</style>\n",
       "<table border=\"1\" class=\"dataframe\">\n",
       "  <thead>\n",
       "    <tr style=\"text-align: right;\">\n",
       "      <th></th>\n",
       "      <th>genre</th>\n",
       "      <th>count</th>\n",
       "    </tr>\n",
       "  </thead>\n",
       "  <tbody>\n",
       "    <tr>\n",
       "      <th>96</th>\n",
       "      <td>pop</td>\n",
       "      <td>781</td>\n",
       "    </tr>\n",
       "    <tr>\n",
       "      <th>30</th>\n",
       "      <td>dance</td>\n",
       "      <td>549</td>\n",
       "    </tr>\n",
       "    <tr>\n",
       "      <th>42</th>\n",
       "      <td>electronic</td>\n",
       "      <td>480</td>\n",
       "    </tr>\n",
       "    <tr>\n",
       "      <th>112</th>\n",
       "      <td>rock</td>\n",
       "      <td>474</td>\n",
       "    </tr>\n",
       "    <tr>\n",
       "      <th>63</th>\n",
       "      <td>hiphop</td>\n",
       "      <td>286</td>\n",
       "    </tr>\n",
       "    <tr>\n",
       "      <th>114</th>\n",
       "      <td>ruspop</td>\n",
       "      <td>186</td>\n",
       "    </tr>\n",
       "    <tr>\n",
       "      <th>146</th>\n",
       "      <td>world</td>\n",
       "      <td>181</td>\n",
       "    </tr>\n",
       "    <tr>\n",
       "      <th>115</th>\n",
       "      <td>rusrap</td>\n",
       "      <td>175</td>\n",
       "    </tr>\n",
       "    <tr>\n",
       "      <th>2</th>\n",
       "      <td>alternative</td>\n",
       "      <td>164</td>\n",
       "    </tr>\n",
       "    <tr>\n",
       "      <th>139</th>\n",
       "      <td>unknown</td>\n",
       "      <td>161</td>\n",
       "    </tr>\n",
       "    <tr>\n",
       "      <th>24</th>\n",
       "      <td>classical</td>\n",
       "      <td>157</td>\n",
       "    </tr>\n",
       "    <tr>\n",
       "      <th>82</th>\n",
       "      <td>metal</td>\n",
       "      <td>120</td>\n",
       "    </tr>\n",
       "    <tr>\n",
       "      <th>71</th>\n",
       "      <td>jazz</td>\n",
       "      <td>100</td>\n",
       "    </tr>\n",
       "    <tr>\n",
       "      <th>51</th>\n",
       "      <td>folk</td>\n",
       "      <td>97</td>\n",
       "    </tr>\n",
       "    <tr>\n",
       "      <th>124</th>\n",
       "      <td>soundtrack</td>\n",
       "      <td>95</td>\n",
       "    </tr>\n",
       "  </tbody>\n",
       "</table>\n",
       "</div>"
      ],
      "text/plain": [
       "           genre  count\n",
       "96           pop    781\n",
       "30         dance    549\n",
       "42    electronic    480\n",
       "112         rock    474\n",
       "63        hiphop    286\n",
       "114       ruspop    186\n",
       "146        world    181\n",
       "115       rusrap    175\n",
       "2    alternative    164\n",
       "139      unknown    161\n",
       "24     classical    157\n",
       "82         metal    120\n",
       "71          jazz    100\n",
       "51          folk     97\n",
       "124   soundtrack     95"
      ]
     },
     "execution_count": 22,
     "metadata": {},
     "output_type": "execute_result"
    }
   ],
   "source": [
    "genre_weekday(spr_general, 'Monday', '00:00:00', '12:00:00')\n"
   ]
  },
  {
   "cell_type": "code",
   "execution_count": 23,
   "metadata": {},
   "outputs": [
    {
     "data": {
      "text/html": [
       "<div>\n",
       "<style scoped>\n",
       "    .dataframe tbody tr th:only-of-type {\n",
       "        vertical-align: middle;\n",
       "    }\n",
       "\n",
       "    .dataframe tbody tr th {\n",
       "        vertical-align: top;\n",
       "    }\n",
       "\n",
       "    .dataframe thead th {\n",
       "        text-align: right;\n",
       "    }\n",
       "</style>\n",
       "<table border=\"1\" class=\"dataframe\">\n",
       "  <thead>\n",
       "    <tr style=\"text-align: right;\">\n",
       "      <th></th>\n",
       "      <th>genre</th>\n",
       "      <th>count</th>\n",
       "    </tr>\n",
       "  </thead>\n",
       "  <tbody>\n",
       "    <tr>\n",
       "      <th>68</th>\n",
       "      <td>pop</td>\n",
       "      <td>218</td>\n",
       "    </tr>\n",
       "    <tr>\n",
       "      <th>18</th>\n",
       "      <td>dance</td>\n",
       "      <td>182</td>\n",
       "    </tr>\n",
       "    <tr>\n",
       "      <th>81</th>\n",
       "      <td>rock</td>\n",
       "      <td>162</td>\n",
       "    </tr>\n",
       "    <tr>\n",
       "      <th>28</th>\n",
       "      <td>electronic</td>\n",
       "      <td>147</td>\n",
       "    </tr>\n",
       "    <tr>\n",
       "      <th>45</th>\n",
       "      <td>hiphop</td>\n",
       "      <td>80</td>\n",
       "    </tr>\n",
       "    <tr>\n",
       "      <th>83</th>\n",
       "      <td>ruspop</td>\n",
       "      <td>64</td>\n",
       "    </tr>\n",
       "    <tr>\n",
       "      <th>1</th>\n",
       "      <td>alternative</td>\n",
       "      <td>58</td>\n",
       "    </tr>\n",
       "    <tr>\n",
       "      <th>84</th>\n",
       "      <td>rusrap</td>\n",
       "      <td>55</td>\n",
       "    </tr>\n",
       "    <tr>\n",
       "      <th>51</th>\n",
       "      <td>jazz</td>\n",
       "      <td>44</td>\n",
       "    </tr>\n",
       "    <tr>\n",
       "      <th>13</th>\n",
       "      <td>classical</td>\n",
       "      <td>40</td>\n",
       "    </tr>\n",
       "    <tr>\n",
       "      <th>107</th>\n",
       "      <td>world</td>\n",
       "      <td>36</td>\n",
       "    </tr>\n",
       "    <tr>\n",
       "      <th>75</th>\n",
       "      <td>rap</td>\n",
       "      <td>32</td>\n",
       "    </tr>\n",
       "    <tr>\n",
       "      <th>90</th>\n",
       "      <td>soundtrack</td>\n",
       "      <td>31</td>\n",
       "    </tr>\n",
       "    <tr>\n",
       "      <th>60</th>\n",
       "      <td>metal</td>\n",
       "      <td>27</td>\n",
       "    </tr>\n",
       "    <tr>\n",
       "      <th>79</th>\n",
       "      <td>rnb</td>\n",
       "      <td>27</td>\n",
       "    </tr>\n",
       "  </tbody>\n",
       "</table>\n",
       "</div>"
      ],
      "text/plain": [
       "           genre  count\n",
       "68           pop    218\n",
       "18         dance    182\n",
       "81          rock    162\n",
       "28    electronic    147\n",
       "45        hiphop     80\n",
       "83        ruspop     64\n",
       "1    alternative     58\n",
       "84        rusrap     55\n",
       "51          jazz     44\n",
       "13     classical     40\n",
       "107        world     36\n",
       "75           rap     32\n",
       "90    soundtrack     31\n",
       "60         metal     27\n",
       "79           rnb     27"
      ]
     },
     "execution_count": 23,
     "metadata": {},
     "output_type": "execute_result"
    }
   ],
   "source": [
    "genre_weekday(shel_general, 'Monday', '00:00:00', '12:00:00')"
   ]
  },
  {
   "cell_type": "code",
   "execution_count": 24,
   "metadata": {},
   "outputs": [
    {
     "data": {
      "text/html": [
       "<div>\n",
       "<style scoped>\n",
       "    .dataframe tbody tr th:only-of-type {\n",
       "        vertical-align: middle;\n",
       "    }\n",
       "\n",
       "    .dataframe tbody tr th {\n",
       "        vertical-align: top;\n",
       "    }\n",
       "\n",
       "    .dataframe thead th {\n",
       "        text-align: right;\n",
       "    }\n",
       "</style>\n",
       "<table border=\"1\" class=\"dataframe\">\n",
       "  <thead>\n",
       "    <tr style=\"text-align: right;\">\n",
       "      <th></th>\n",
       "      <th>genre</th>\n",
       "      <th>count</th>\n",
       "    </tr>\n",
       "  </thead>\n",
       "  <tbody>\n",
       "    <tr>\n",
       "      <th>68</th>\n",
       "      <td>pop</td>\n",
       "      <td>281</td>\n",
       "    </tr>\n",
       "    <tr>\n",
       "      <th>17</th>\n",
       "      <td>dance</td>\n",
       "      <td>237</td>\n",
       "    </tr>\n",
       "    <tr>\n",
       "      <th>81</th>\n",
       "      <td>rock</td>\n",
       "      <td>221</td>\n",
       "    </tr>\n",
       "    <tr>\n",
       "      <th>25</th>\n",
       "      <td>electronic</td>\n",
       "      <td>173</td>\n",
       "    </tr>\n",
       "    <tr>\n",
       "      <th>41</th>\n",
       "      <td>hiphop</td>\n",
       "      <td>123</td>\n",
       "    </tr>\n",
       "    <tr>\n",
       "      <th>13</th>\n",
       "      <td>classical</td>\n",
       "      <td>106</td>\n",
       "    </tr>\n",
       "    <tr>\n",
       "      <th>0</th>\n",
       "      <td>alternative</td>\n",
       "      <td>83</td>\n",
       "    </tr>\n",
       "    <tr>\n",
       "      <th>82</th>\n",
       "      <td>ruspop</td>\n",
       "      <td>76</td>\n",
       "    </tr>\n",
       "    <tr>\n",
       "      <th>83</th>\n",
       "      <td>rusrap</td>\n",
       "      <td>59</td>\n",
       "    </tr>\n",
       "    <tr>\n",
       "      <th>104</th>\n",
       "      <td>world</td>\n",
       "      <td>57</td>\n",
       "    </tr>\n",
       "    <tr>\n",
       "      <th>48</th>\n",
       "      <td>jazz</td>\n",
       "      <td>45</td>\n",
       "    </tr>\n",
       "    <tr>\n",
       "      <th>31</th>\n",
       "      <td>folk</td>\n",
       "      <td>42</td>\n",
       "    </tr>\n",
       "    <tr>\n",
       "      <th>87</th>\n",
       "      <td>soundtrack</td>\n",
       "      <td>38</td>\n",
       "    </tr>\n",
       "    <tr>\n",
       "      <th>54</th>\n",
       "      <td>metal</td>\n",
       "      <td>34</td>\n",
       "    </tr>\n",
       "    <tr>\n",
       "      <th>80</th>\n",
       "      <td>rnb</td>\n",
       "      <td>34</td>\n",
       "    </tr>\n",
       "  </tbody>\n",
       "</table>\n",
       "</div>"
      ],
      "text/plain": [
       "           genre  count\n",
       "68           pop    281\n",
       "17         dance    237\n",
       "81          rock    221\n",
       "25    electronic    173\n",
       "41        hiphop    123\n",
       "13     classical    106\n",
       "0    alternative     83\n",
       "82        ruspop     76\n",
       "83        rusrap     59\n",
       "104        world     57\n",
       "48          jazz     45\n",
       "31          folk     42\n",
       "87    soundtrack     38\n",
       "54         metal     34\n",
       "80           rnb     34"
      ]
     },
     "execution_count": 24,
     "metadata": {},
     "output_type": "execute_result"
    }
   ],
   "source": [
    "genre_weekday(shel_general, 'Friday', '12:00:00', '18:00:00')"
   ]
  },
  {
   "cell_type": "markdown",
   "metadata": {},
   "source": [
    "**Conclusion**\n",
    "\n",
    "Having compared the 15 most popular genres on Monday morning we can conclude the following:\n",
    "\n",
    "1. Users in Springfield and Shelbyville listen to similar music. The five most popular genres are the same, only rock and electronic have swapped positions.\n",
    "\n",
    "2. In Springfield the number of missing values ​​turned out to be so high that the value `'unknown'` reached tenth."
   ]
  },
  {
   "cell_type": "markdown",
   "metadata": {},
   "source": [
    "Hypothesis 3: Gender preferences in Springfield and Shelbyville"
   ]
  },
  {
   "cell_type": "code",
   "execution_count": 26,
   "metadata": {},
   "outputs": [
    {
     "data": {
      "text/html": [
       "<div>\n",
       "<style scoped>\n",
       "    .dataframe tbody tr th:only-of-type {\n",
       "        vertical-align: middle;\n",
       "    }\n",
       "\n",
       "    .dataframe tbody tr th {\n",
       "        vertical-align: top;\n",
       "    }\n",
       "\n",
       "    .dataframe thead th {\n",
       "        text-align: right;\n",
       "    }\n",
       "</style>\n",
       "<table border=\"1\" class=\"dataframe\">\n",
       "  <thead>\n",
       "    <tr style=\"text-align: right;\">\n",
       "      <th></th>\n",
       "      <th>genre</th>\n",
       "      <th>count</th>\n",
       "    </tr>\n",
       "  </thead>\n",
       "  <tbody>\n",
       "    <tr>\n",
       "      <th>170</th>\n",
       "      <td>pop</td>\n",
       "      <td>5892</td>\n",
       "    </tr>\n",
       "    <tr>\n",
       "      <th>53</th>\n",
       "      <td>dance</td>\n",
       "      <td>4435</td>\n",
       "    </tr>\n",
       "    <tr>\n",
       "      <th>194</th>\n",
       "      <td>rock</td>\n",
       "      <td>3965</td>\n",
       "    </tr>\n",
       "    <tr>\n",
       "      <th>72</th>\n",
       "      <td>electronic</td>\n",
       "      <td>3786</td>\n",
       "    </tr>\n",
       "    <tr>\n",
       "      <th>109</th>\n",
       "      <td>hiphop</td>\n",
       "      <td>2096</td>\n",
       "    </tr>\n",
       "  </tbody>\n",
       "</table>\n",
       "</div>"
      ],
      "text/plain": [
       "          genre  count\n",
       "170         pop   5892\n",
       "53        dance   4435\n",
       "194        rock   3965\n",
       "72   electronic   3786\n",
       "109      hiphop   2096"
      ]
     },
     "execution_count": 26,
     "metadata": {},
     "output_type": "execute_result"
    }
   ],
   "source": [
    "# Group DataFrame by gender and count the number of rows for each gender\n",
    "spr_genres = spr_general.groupby('genre').size().reset_index(name='count')\n",
    "\n",
    "# Sort table by number of occurrences in descending order\n",
    "spr_genres = spr_genres.sort_values(by='count', ascending=False)\n",
    "\n",
    "# Display result\n",
    "spr_genres.head()"
   ]
  },
  {
   "cell_type": "code",
   "execution_count": 27,
   "metadata": {},
   "outputs": [
    {
     "data": {
      "text/html": [
       "<div>\n",
       "<style scoped>\n",
       "    .dataframe tbody tr th:only-of-type {\n",
       "        vertical-align: middle;\n",
       "    }\n",
       "\n",
       "    .dataframe tbody tr th {\n",
       "        vertical-align: top;\n",
       "    }\n",
       "\n",
       "    .dataframe thead th {\n",
       "        text-align: right;\n",
       "    }\n",
       "</style>\n",
       "<table border=\"1\" class=\"dataframe\">\n",
       "  <thead>\n",
       "    <tr style=\"text-align: right;\">\n",
       "      <th></th>\n",
       "      <th>genre</th>\n",
       "      <th>count</th>\n",
       "    </tr>\n",
       "  </thead>\n",
       "  <tbody>\n",
       "    <tr>\n",
       "      <th>138</th>\n",
       "      <td>pop</td>\n",
       "      <td>2431</td>\n",
       "    </tr>\n",
       "    <tr>\n",
       "      <th>41</th>\n",
       "      <td>dance</td>\n",
       "      <td>1932</td>\n",
       "    </tr>\n",
       "    <tr>\n",
       "      <th>159</th>\n",
       "      <td>rock</td>\n",
       "      <td>1879</td>\n",
       "    </tr>\n",
       "    <tr>\n",
       "      <th>56</th>\n",
       "      <td>electronic</td>\n",
       "      <td>1736</td>\n",
       "    </tr>\n",
       "    <tr>\n",
       "      <th>90</th>\n",
       "      <td>hiphop</td>\n",
       "      <td>960</td>\n",
       "    </tr>\n",
       "  </tbody>\n",
       "</table>\n",
       "</div>"
      ],
      "text/plain": [
       "          genre  count\n",
       "138         pop   2431\n",
       "41        dance   1932\n",
       "159        rock   1879\n",
       "56   electronic   1736\n",
       "90       hiphop    960"
      ]
     },
     "execution_count": 27,
     "metadata": {},
     "output_type": "execute_result"
    }
   ],
   "source": [
    "shel_genres = shel_general.groupby('genre').size().reset_index(name='count')\n",
    "\n",
    "# count the 'genre' values ​​in the grouping with count(),\n",
    "shel_genres = shel_genres.sort_values(by='count', ascending=False)\n",
    "\n",
    "# sort the resulting Series in descending order and store it in shel_genres\n",
    "shel_genres.head()"
   ]
  },
  {
   "cell_type": "markdown",
   "metadata": {},
   "source": [
    "The hypothesis has been partially proven:\n",
    "* Pop music is the most popular genre in Springfield, as expected.\n",
    "* However, pop music turned out to be just as popular in Springfield as it was in Shelbyville, and rap was not in the top 5 in either city."
   ]
  },
  {
   "cell_type": "markdown",
   "metadata": {},
   "source": [
    "# Conclusions <a id='end'></a>"
   ]
  },
  {
   "cell_type": "markdown",
   "metadata": {},
   "source": [
    "We tested the following three hypotheses:\n",
    "\n",
    "1. User activity differs depending on the day of the week and in different cities.\n",
    "2. On Monday mornings, residents of Springfield and Shelbyville listen to different genres. The same is true on Friday nights.\n",
    "3. Listeners in Springfield and Shelbyville have different preferences. In both cities, Springfield and Shelbyville, pop music is preferred.\n",
    "\n",
    "After analyzing the data, we conclude:\n",
    "\n",
    "1. User activity in Springfield and Shelbyville depends on the day of the week, although the cities vary in different ways.\n",
    "\n",
    "The first hypothesis has been fully accepted.\n",
    "\n",
    "2. Music preferences do not vary significantly over the course of the week in Springfield and Shelbyville. We can observe small differences in the order on Mondays, but:\n",
    "* In Springfield and Shelbyville, people listen to pop music the most.\n",
    "\n",
    "So we cannot accept this hypothesis. We must also note that the result could have been different if it were not for the missing values.\n",
    "\n",
    "3. It turns out that the musical preferences of the users from Springfield and Shelbyville are quite similar.\n",
    "\n",
    "The third hypothesis is rejected. If there is any difference in preferences, it cannot be observed in the data."
   ]
  }
 ],
 "metadata": {
  "kernelspec": {
   "display_name": "Python 3",
   "language": "python",
   "name": "python3"
  },
  "language_info": {
   "codemirror_mode": {
    "name": "ipython",
    "version": 3
   },
   "file_extension": ".py",
   "mimetype": "text/x-python",
   "name": "python",
   "nbconvert_exporter": "python",
   "pygments_lexer": "ipython3",
   "version": "3.12.5"
  }
 },
 "nbformat": 4,
 "nbformat_minor": 2
}
